{
 "cells": [
  {
   "cell_type": "code",
   "execution_count": 1,
   "id": "c4b99451",
   "metadata": {},
   "outputs": [],
   "source": [
    "import tensorflow as tf\n",
    "import tensorflow_hub as hub\n",
    "import cv2\n",
    "from matplotlib import pyplot as plt\n",
    "import numpy as np\n",
    "import math"
   ]
  },
  {
   "cell_type": "code",
   "execution_count": 2,
   "id": "3a80dcea",
   "metadata": {},
   "outputs": [],
   "source": [
    "gpus = tf.config.experimental.list_physical_devices('GPU')\n",
    "for gpu in gpus:\n",
    "    tf.config.experimental.set_memory_growth(gpu, True)"
   ]
  },
  {
   "cell_type": "code",
   "execution_count": 3,
   "id": "7f8c6e4a",
   "metadata": {},
   "outputs": [],
   "source": [
    "model = hub.load('https://tfhub.dev/google/movenet/multipose/lightning/1')\n",
    "movenet = model.signatures['serving_default']"
   ]
  },
  {
   "cell_type": "code",
   "execution_count": 4,
   "id": "bad88098",
   "metadata": {},
   "outputs": [],
   "source": [
    "def draw_boundingBox(frame,bb_keypoints,confidence_threshold, cur_center_points,pre_center_points):\n",
    "    y, x, c = frame.shape\n",
    "    bb_shaped = np.squeeze(np.multiply(bb_keypoints, [y,x,y,x,1]))\n",
    "    for kb in bb_shaped:\n",
    "        ymin, xmin, ymax, xmax, score = kb\n",
    "        \n",
    "#         print(int(ymin), int(xmin), int(ymax), int(xmax), score)\n",
    "        \n",
    "        if score > confidence_threshold:\n",
    "            cx = int((xmin + xmax)/2)\n",
    "            cy = int((ymin + ymax)/2)\n",
    "            cv2.circle(frame, (cx, cy), 5, (0,0,255), -1)\n",
    "            cv2.rectangle(frame,(int(xmin),int(ymax)),(int(xmax),int(ymin)),(0,255,0),2)\n",
    "#             print(cx, cy)\n",
    "\n",
    "            if (cx,cy) not in cur_center_points:\n",
    "                cur_center_points.append((cx,cy))"
   ]
  },
  {
   "cell_type": "code",
   "execution_count": 5,
   "id": "26a8003e",
   "metadata": {},
   "outputs": [],
   "source": [
    "def loop_through_people(frame, confidence_threshold, bb_keypoints_with_scores,cur_center_points, pre_center_points\n",
    "                       ,count):\n",
    "    for bb_person in bb_keypoints_with_scores:\n",
    "#         print(\"Frame\", count)\n",
    "        draw_boundingBox(frame,bb_keypoints_with_scores,confidence_threshold,cur_center_points,pre_center_points)"
   ]
  },
  {
   "cell_type": "code",
   "execution_count": 1,
   "id": "c43c3093",
   "metadata": {
    "collapsed": true
   },
   "outputs": [
    {
     "ename": "NameError",
     "evalue": "name 'cv2' is not defined",
     "output_type": "error",
     "traceback": [
      "\u001b[1;31m---------------------------------------------------------------------------\u001b[0m",
      "\u001b[1;31mNameError\u001b[0m                                 Traceback (most recent call last)",
      "Cell \u001b[1;32mIn[1], line 6\u001b[0m\n\u001b[0;32m      4\u001b[0m count \u001b[39m=\u001b[39m \u001b[39m0\u001b[39m\n\u001b[0;32m      5\u001b[0m k \u001b[39m=\u001b[39m \u001b[39mTrue\u001b[39;00m\n\u001b[1;32m----> 6\u001b[0m cap \u001b[39m=\u001b[39m cv2\u001b[39m.\u001b[39mVideoCapture(\u001b[39m'\u001b[39m\u001b[39msoccer2.mp4\u001b[39m\u001b[39m'\u001b[39m)\n\u001b[0;32m      7\u001b[0m \u001b[39mwhile\u001b[39;00m cap\u001b[39m.\u001b[39misOpened():\n\u001b[0;32m      8\u001b[0m     ret, frame \u001b[39m=\u001b[39m cap\u001b[39m.\u001b[39mread()\n",
      "\u001b[1;31mNameError\u001b[0m: name 'cv2' is not defined"
     ]
    }
   ],
   "source": [
    "pre_center_points = []\n",
    "tracking_objects = {}\n",
    "track_id = 0\n",
    "count = 0\n",
    "k = True\n",
    "cap = cv2.VideoCapture('soccer2.mp4')\n",
    "while cap.isOpened():\n",
    "    ret, frame = cap.read()\n",
    "    \n",
    "    count += 1\n",
    "    \n",
    "    if not ret:\n",
    "        break\n",
    "    cur_center_points = []\n",
    "    # Resize image\n",
    "    img = frame.copy()\n",
    "    img = tf.image.resize_with_pad(tf.expand_dims(img, axis=0), 352,640)\n",
    "    input_img = tf.cast(img, dtype=tf.int32)\n",
    "    \n",
    "    # Detection section\n",
    "    results = movenet(input_img)\n",
    "    bb_keypoints_with_scores = results['output_0'].numpy()[:,:,51:].reshape((6,5))\n",
    "    \n",
    "    # Render\n",
    "\n",
    "    loop_through_people(frame, 0.2, bb_keypoints_with_scores, cur_center_points, pre_center_points\n",
    "                        ,count)\n",
    "    \n",
    "#     start tracking\n",
    "    \n",
    "    if count <= 2:\n",
    "        for pt in cur_center_points:\n",
    "            for pt2 in pre_center_points:\n",
    "                distance = math.hypot(pt2[0] - pt[0], pt2[1] - pt[1])\n",
    "#                 print(\"Distance\",distance)\n",
    "\n",
    "                if distance < 50:\n",
    "                    tracking_objects[track_id] = pt\n",
    "                    track_id += 1\n",
    "    else:\n",
    "        \n",
    "        tracking_objects_copy = tracking_objects.copy()\n",
    "        cur_center_points_copy = cur_center_points.copy()\n",
    "        \n",
    "        for object_id, pt2 in tracking_objects_copy.items():\n",
    "            object_exists = False\n",
    "            for pt in cur_center_points_copy:\n",
    "                distance = math.hypot(pt2[0] - pt[0], pt2[1] - pt[1])\n",
    "#                 print(\"Distance\",distance)\n",
    "                if distance < 50:\n",
    "                    tracking_objects[object_id] = pt\n",
    "                    object_exists = True\n",
    "                    if pt in cur_center_points:\n",
    "                        cur_center_points.remove(pt)\n",
    "                    continue\n",
    "                    \n",
    "            if not object_exists:\n",
    "                tracking_objects.pop(object_id)\n",
    "                \n",
    "        for pt in cur_center_points:\n",
    "            tracking_objects[track_id] = pt\n",
    "            track_id += 1\n",
    "                \n",
    "    for object_id, pt in tracking_objects.items():\n",
    "        cv2.circle(frame, pt, 5, (0,0,255), -1)\n",
    "        cv2.putText(frame, str(object_id), (pt[0], pt[1] - 7), 0, 1, (0,0,255), 2)\n",
    "        \n",
    "#     print(tracking_objects)\n",
    "            \n",
    "#     end tracking\n",
    "    \n",
    "#     print(\"Cur Frame\", count, cur_center_points)\n",
    "#     print(\"Pre Frame\", count-1, pre_center_points)\n",
    "#     print(\"-----------------------------------\")\n",
    "    cv2.imshow(\"Multipose\", frame)\n",
    "    \n",
    "    while k:\n",
    "        key = cv2.waitKey(0)\n",
    "        if key == 27:\n",
    "            k = False\n",
    "    \n",
    "    pre_center_points = cur_center_points.copy()\n",
    "    \n",
    "#     key = cv2.waitKey(0)\n",
    "#     if key == 27:\n",
    "#         break\n",
    "    if cv2.waitKey(10) & 0xFF==ord('q'):\n",
    "        break\n",
    "cap.release()\n",
    "cv2.destroyAllWindows()"
   ]
  }
 ],
 "metadata": {
  "kernelspec": {
   "display_name": "Python 3 (ipykernel)",
   "language": "python",
   "name": "python3"
  },
  "language_info": {
   "codemirror_mode": {
    "name": "ipython",
    "version": 3
   },
   "file_extension": ".py",
   "mimetype": "text/x-python",
   "name": "python",
   "nbconvert_exporter": "python",
   "pygments_lexer": "ipython3",
   "version": "3.9.7"
  }
 },
 "nbformat": 4,
 "nbformat_minor": 5
}
